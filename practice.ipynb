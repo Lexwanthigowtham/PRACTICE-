{
 "cells": [
  {
   "cell_type": "code",
   "execution_count": 1,
   "id": "b2e88b06-d518-472c-b321-8ff4845b2582",
   "metadata": {},
   "outputs": [
    {
     "name": "stdout",
     "output_type": "stream",
     "text": [
      "[5]\n"
     ]
    }
   ],
   "source": [
    "#problem1: Python program to illustrate the intersection\n",
    "# of two lists in most simple way\n",
    "def intersection(lst1, lst2):\n",
    "    lst3 = [value for value in lst1 if value in lst2]\n",
    "    return lst3\n",
    " \n",
    "# Driver Code\n",
    "lst1 = [1, 3, 5, 7, 9]\n",
    "lst2 = [2, 4, 5, 8]\n",
    "print(intersection(lst1, lst2))"
   ]
  },
  {
   "cell_type": "code",
   "execution_count": 7,
   "id": "7a46ed79-373c-4fc7-beb4-08cd63a88560",
   "metadata": {},
   "outputs": [
    {
     "name": "stdout",
     "output_type": "stream",
     "text": [
      "K'th smallest element is 7\n"
     ]
    }
   ],
   "source": [
    "#problem 2:\n",
    "# Python3 program to find K'th smallest\n",
    "# element\n",
    "\n",
    "# Function to return K'th smallest\n",
    "# element in a given array\n",
    "\n",
    "\n",
    "def kthSmallest(arr, N, K):\n",
    "\n",
    "    # Sort the given array\n",
    "    arr.sort()\n",
    "\n",
    "    # Return k'th element in the\n",
    "    # sorted array\n",
    "    return arr[K-1]\n",
    "\n",
    "\n",
    "# Driver code\n",
    "if __name__ == '__main__':\n",
    "    arr = [12, 3, 1, 7, 8, 20]\n",
    "    N = len(arr)\n",
    "    K = 3\n",
    "\n",
    "    # Function call\n",
    "    print(\"K'th smallest element is\",\n",
    "          kthSmallest(arr, N, K))"
   ]
  },
  {
   "cell_type": "code",
   "execution_count": 9,
   "id": "7cdc82dc-1a0c-4c6e-94f2-058e3c35c30b",
   "metadata": {},
   "outputs": [
    {
     "name": "stdout",
     "output_type": "stream",
     "text": [
      "Index:  2\n"
     ]
    }
   ],
   "source": [
    "#problem :3\n",
    "def search (arr, l, h, key): \n",
    "    if l > h: \n",
    "        return -1\n",
    "      \n",
    "    mid = (l + h) // 2\n",
    "    if arr[mid] == key: \n",
    "        return mid \n",
    "  \n",
    "    # If arr[l...mid] is sorted  \n",
    "    if arr[l] <= arr[mid]: \n",
    "  \n",
    "        # As this subarray is sorted, we can quickly \n",
    "        # check if key lies in half or other half  \n",
    "        if key >= arr[l] and key <= arr[mid]: \n",
    "            return search(arr, l, mid-1, key) \n",
    "        return search(arr, mid + 1, h, key) \n",
    "  \n",
    "    # If arr[l..mid] is not sorted, then arr[mid... r] \n",
    "    # must be sorted \n",
    "    if key >= arr[mid] and key <= arr[h]: \n",
    "        return search(a, mid + 1, h, key) \n",
    "    return search(arr, l, mid-1, key) \n",
    "  \n",
    "# Driver program \n",
    "arr = [4, 5, 6, 7, 8, 9, 1, 2, 3] \n",
    "key = 6\n",
    "i = search(arr, 0, len(arr)-1, key) \n",
    "if i != -1: \n",
    "    print (\"Index: % d\"% i) \n",
    "else: \n",
    "    print (\"Key not found\") "
   ]
  },
  {
   "cell_type": "code",
   "execution_count": 12,
   "id": "6045c43d-a819-4137-b94a-9c9f5c7fe2d3",
   "metadata": {},
   "outputs": [
    {
     "name": "stdout",
     "output_type": "stream",
     "text": [
      "Element found at index: [1 2]\n"
     ]
    }
   ],
   "source": [
    "#problem 4:\n",
    "# Python code for the above approach\n",
    "def linearSearch (arr, target):\n",
    "    for i in range(len(arr)):\n",
    "        for j in range(len(arr[i])):\n",
    "            if (arr[i][j] == target):\n",
    "                return [i, j]\n",
    "    return [-1, -1]\n",
    "\n",
    "# Driver code\n",
    "arr = [[1, 3, 5], [7, 9, 11], [13, 15, 17]]\n",
    "target = 11\n",
    "ans = linearSearch(arr, target)\n",
    "print(f\"Element found at index: [{ans[0]} {ans[1]}]\")\n"
   ]
  },
  {
   "cell_type": "code",
   "execution_count": 14,
   "id": "e7ed4b6d-0364-476e-abd0-70d6f634f3c5",
   "metadata": {},
   "outputs": [
    {
     "name": "stdout",
     "output_type": "stream",
     "text": [
      "['kiwi', 'apple', 'grape', 'banana', 'orange']\n"
     ]
    }
   ],
   "source": [
    "#problem 5:\n",
    "# Python code to sort a list by creating \n",
    "# another list Use of sorted()\n",
    "def Sorting(lst):\n",
    "    lst2 = sorted(lst, key=len)\n",
    "    return lst2\n",
    "     \n",
    "# Driver code\n",
    "lst = [\"apple\" , \"banana\" ,\"kiwi\" , \"orange\" ,\"grape\"]\n",
    "print(Sorting(lst))"
   ]
  },
  {
   "cell_type": "code",
   "execution_count": 16,
   "id": "cd79212d-51f1-43f1-b1c4-f51627ce2893",
   "metadata": {},
   "outputs": [
    {
     "name": "stdout",
     "output_type": "stream",
     "text": [
      "Given array is\n",
      "12 11 13 5 6 7 \n",
      "\n",
      "Sorted array is\n",
      "5 6 7 11 12 13 "
     ]
    }
   ],
   "source": [
    "#problem 6:\n",
    "# Python program for implementation of MergeSort\n",
    " \n",
    "# Merges two subarrays of arr[].\n",
    "# First subarray is arr[l..m]\n",
    "# Second subarray is arr[m+1..r]\n",
    " \n",
    " \n",
    "def merge(arr, l, m, r):\n",
    "    n1 = m - l + 1\n",
    "    n2 = r - m\n",
    " \n",
    "    # create temp arrays\n",
    "    L = [0] * (n1)\n",
    "    R = [0] * (n2)\n",
    " \n",
    "    # Copy data to temp arrays L[] and R[]\n",
    "    for i in range(0, n1):\n",
    "        L[i] = arr[l + i]\n",
    " \n",
    "    for j in range(0, n2):\n",
    "        R[j] = arr[m + 1 + j]\n",
    " \n",
    "    # Merge the temp arrays back into arr[l..r]\n",
    "    i = 0     # Initial index of first subarray\n",
    "    j = 0     # Initial index of second subarray\n",
    "    k = l     # Initial index of merged subarray\n",
    " \n",
    "    while i < n1 and j < n2:\n",
    "        if L[i] <= R[j]:\n",
    "            arr[k] = L[i]\n",
    "            i += 1\n",
    "        else:\n",
    "            arr[k] = R[j]\n",
    "            j += 1\n",
    "        k += 1\n",
    " \n",
    "    # Copy the remaining elements of L[], if there\n",
    "    # are any\n",
    "    while i < n1:\n",
    "        arr[k] = L[i]\n",
    "        i += 1\n",
    "        k += 1\n",
    " \n",
    "    # Copy the remaining elements of R[], if there\n",
    "    # are any\n",
    "    while j < n2:\n",
    "        arr[k] = R[j]\n",
    "        j += 1\n",
    "        k += 1\n",
    " \n",
    "# l is for left index and r is right index of the\n",
    "# sub-array of arr to be sorted\n",
    " \n",
    " \n",
    "def mergeSort(arr, l, r):\n",
    "    if l < r:\n",
    " \n",
    "        # Same as (l+r)//2, but avoids overflow for\n",
    "        # large l and h\n",
    "        m = l+(r-l)//2\n",
    " \n",
    "        # Sort first and second halves\n",
    "        mergeSort(arr, l, m)\n",
    "        mergeSort(arr, m+1, r)\n",
    "        merge(arr, l, m, r)\n",
    " \n",
    " \n",
    "# Driver code to test above\n",
    "arr = [12, 11, 13, 5, 6, 7]\n",
    "n = len(arr)\n",
    "print(\"Given array is\")\n",
    "for i in range(n):\n",
    "    print(\"%d\" % arr[i],end=\" \")\n",
    " \n",
    "mergeSort(arr, 0, n-1)\n",
    "print(\"\\n\\nSorted array is\")\n",
    "for i in range(n):\n",
    "    print(\"%d\" % arr[i],end=\" \")"
   ]
  },
  {
   "cell_type": "code",
   "execution_count": 17,
   "id": "b636e2ce-f896-44e8-83d7-e47c1f27ad71",
   "metadata": {},
   "outputs": [
    {
     "name": "stdout",
     "output_type": "stream",
     "text": [
      "Unsorted Array\n",
      "[1, 7, 4, 1, 10, 9, -2]\n",
      "Sorted Array in Ascending Order:\n",
      "[-2, 1, 1, 4, 7, 9, 10]\n"
     ]
    }
   ],
   "source": [
    "\n",
    "#problem 7: \n",
    "# Function to find the partition position\n",
    "def partition(array, low, high):\n",
    " \n",
    "    # choose the rightmost element as pivot\n",
    "    pivot = array[high]\n",
    " \n",
    "    # pointer for greater element\n",
    "    i = low - 1\n",
    " \n",
    "    # traverse through all elements\n",
    "    # compare each element with pivot\n",
    "    for j in range(low, high):\n",
    "        if array[j] <= pivot:\n",
    " \n",
    "            # If element smaller than pivot is found\n",
    "            # swap it with the greater element pointed by i\n",
    "            i = i + 1\n",
    " \n",
    "            # Swapping element at i with element at j\n",
    "            (array[i], array[j]) = (array[j], array[i])\n",
    " \n",
    "    # Swap the pivot element with the greater element specified by i\n",
    "    (array[i + 1], array[high]) = (array[high], array[i + 1])\n",
    " \n",
    "    # Return the position from where partition is done\n",
    "    return i + 1\n",
    " \n",
    "# function to perform quicksort\n",
    " \n",
    " \n",
    "def quickSort(array, low, high):\n",
    "    if low < high:\n",
    " \n",
    "        # Find pivot element such that\n",
    "        # element smaller than pivot are on the left\n",
    "        # element greater than pivot are on the right\n",
    "        pi = partition(array, low, high)\n",
    " \n",
    "        # Recursive call on the left of pivot\n",
    "        quickSort(array, low, pi - 1)\n",
    " \n",
    "        # Recursive call on the right of pivot\n",
    "        quickSort(array, pi + 1, high)\n",
    " \n",
    " \n",
    "data = [1, 7, 4, 1, 10, 9, -2]\n",
    "print(\"Unsorted Array\")\n",
    "print(data)\n",
    " \n",
    "size = len(data)\n",
    " \n",
    "quickSort(data, 0, size - 1)\n",
    " \n",
    "print('Sorted Array in Ascending Order:')\n",
    "print(data)"
   ]
  },
  {
   "cell_type": "code",
   "execution_count": 18,
   "id": "edad9a73-b844-4f2c-90f2-49ec92d2ec7a",
   "metadata": {},
   "outputs": [
    {
     "name": "stdout",
     "output_type": "stream",
     "text": [
      "Sorted character array is eeeefggkkorss\n"
     ]
    }
   ],
   "source": [
    "#problem 8:\n",
    "\n",
    "\n",
    "# Python program for counting sort\n",
    " \n",
    "# The main function that sort the given string arr[] in \n",
    "# alphabetical order\n",
    "def countSort(arr):\n",
    " \n",
    "    # The output character array that will have sorted arr\n",
    "    output = [0 for i in range(256)]\n",
    " \n",
    "    # Create a count array to store count of individual\n",
    "    # characters and initialize count array as 0\n",
    "    count = [0 for i in range(256)]\n",
    " \n",
    "    # For storing the resulting answer since the \n",
    "    # string is immutable\n",
    "    ans = [\"\" for _ in arr]\n",
    " \n",
    "    # Store count of each character\n",
    "    for i in arr:\n",
    "        count[ord(i)] += 1\n",
    " \n",
    "    # Change count[i] so that count[i] now contains actual\n",
    "    # position of this character in output array\n",
    "    for i in range(256):\n",
    "        count[i] += count[i-1]\n",
    " \n",
    "    # Build the output character array\n",
    "    for i in range(len(arr)):\n",
    "        output[count[ord(arr[i])]-1] = arr[i]\n",
    "        count[ord(arr[i])] -= 1\n",
    " \n",
    "    # Copy the output array to arr, so that arr now\n",
    "    # contains sorted characters\n",
    "    for i in range(len(arr)):\n",
    "        ans[i] = output[i]\n",
    "    return ans \n",
    " \n",
    "# Driver program to test above function\n",
    "arr = \"geeksforgeeks\"\n",
    "ans = countSort(arr)\n",
    "print (\"Sorted character array is %s\"  %(\"\".join(ans)))\n"
   ]
  },
  {
   "cell_type": "code",
   "execution_count": 20,
   "id": "44166917-6f72-4679-a8d8-ea0e56a5f064",
   "metadata": {},
   "outputs": [
    {
     "name": "stdout",
     "output_type": "stream",
     "text": [
      "Index of a peak point is 2\n"
     ]
    }
   ],
   "source": [
    "#problem 9:\n",
    "# A Python3 program to find a peak element\n",
    "\n",
    "# Find the peak element in the array\n",
    "def findPeak(arr, n) :\n",
    "\n",
    "    # first or last element is peak element\n",
    "    if (n == 1) :\n",
    "      return 0\n",
    "    if (arr[0] >= arr[1]) :\n",
    "        return 0\n",
    "    if (arr[n - 1] >= arr[n - 2]) :\n",
    "        return n - 1\n",
    " \n",
    "    # check for every other element\n",
    "    for i in range(1, n - 1) :\n",
    " \n",
    "        # check if the neighbors are smaller\n",
    "        if (arr[i] >= arr[i - 1] and arr[i] >= arr[i + 1]) :\n",
    "            return i\n",
    "            \n",
    "# Driver code.\n",
    "arr = [ 1, 3, 20,  1, 0 ]\n",
    "n = len(arr)\n",
    "print(\"Index of a peak point is\", findPeak(arr, n))\n"
   ]
  },
  {
   "cell_type": "code",
   "execution_count": 22,
   "id": "92583d06-2baa-4a1a-850c-ce41a51702d6",
   "metadata": {},
   "outputs": [
    {
     "name": "stdout",
     "output_type": "stream",
     "text": [
      "Element is present at index 1\n"
     ]
    }
   ],
   "source": [
    "#problem 10:\n",
    "class Geeksforgeeks:\n",
    "    @staticmethod\n",
    "    def linearSearch(arr, x):\n",
    "        n = len(arr)\n",
    "        for i in range(n):\n",
    "            if arr[i] == x:\n",
    "                return i\n",
    "        return -1\n",
    "       \n",
    "# Driver code\n",
    "if __name__ == '__main__':\n",
    "    arr = [2, 1, 3, 4, 6, 5, 7]\n",
    "    x = 1\n",
    " \n",
    "    # Function call\n",
    "    result = Geeksforgeeks.linearSearch(arr, x)\n",
    "    if result == -1:\n",
    "        print(\"Element is not present in array\")\n",
    "    else:\n",
    "        print(\"Element is present at index\", result)"
   ]
  },
  {
   "cell_type": "markdown",
   "id": "6ee6bfc5-09e5-470f-8f1a-2be87668afe6",
   "metadata": {},
   "source": [
    "                ''' THANK YOU'''"
   ]
  }
 ],
 "metadata": {
  "kernelspec": {
   "display_name": "Python 3 (ipykernel)",
   "language": "python",
   "name": "python3"
  },
  "language_info": {
   "codemirror_mode": {
    "name": "ipython",
    "version": 3
   },
   "file_extension": ".py",
   "mimetype": "text/x-python",
   "name": "python",
   "nbconvert_exporter": "python",
   "pygments_lexer": "ipython3",
   "version": "3.10.8"
  }
 },
 "nbformat": 4,
 "nbformat_minor": 5
}
